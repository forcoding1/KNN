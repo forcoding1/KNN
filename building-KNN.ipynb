{
 "cells": [
  {
   "cell_type": "code",
   "execution_count": 17,
   "metadata": {},
   "outputs": [],
   "source": [
    "import numpy as np\n",
    "import pandas as pd\n",
    "import matplotlib.pyplot as plt\n",
    "import plotly.offline as pyo\n",
    "from sklearn import neighbors, preprocessing\n",
    "from sklearn.model_selection import train_test_split\n",
    "import warnings\n",
    "from collections import Counter\n"
   ]
  },
  {
   "cell_type": "markdown",
   "metadata": {},
   "source": [
    "***Visualising the data***"
   ]
  },
  {
   "cell_type": "code",
   "execution_count": 19,
   "metadata": {},
   "outputs": [
    {
     "data": {
      "image/png": "[encoded data removed]",
      "text/plain": [
       "<Figure size 432x288 with 1 Axes>"
      ]
     },
     "metadata": {
      "needs_background": "light"
     },
     "output_type": "display_data"
    }
   ],
   "source": [
    "data = {'k':[[1,2], [2,3], [3,1]], 'r':[[6,5], [7,7], [8,6]]}\n",
    "new_feature = [7,9]\n",
    "\n",
    "[[plt.scatter(ii[0], ii[1], color = 'red') for ii in data[i]] for i in data]\n",
    "plt.scatter(new_feature[0], new_feature[1], s=100)\n",
    "plt.show()"
   ]
  },
  {
   "cell_type": "markdown",
   "metadata": {},
   "source": [
    "***KNN function building***"
   ]
  },
  {
   "cell_type": "code",
   "execution_count": 20,
   "metadata": {},
   "outputs": [
    {
     "data": {
      "text/plain": [
       "'r'"
      ]
     },
     "execution_count": 20,
     "metadata": {},
     "output_type": "execute_result"
    }
   ],
   "source": [
    "from typing import Counter\n",
    "\n",
    "\n",
    "def KNN(data, predict, k = 3):\n",
    "    if k<=len(data):\n",
    "        warnings.warn('K is grater then the total voting groups !Dumbass!')\n",
    "    distances = []\n",
    "\n",
    "    for group in data:\n",
    "        for features in data[group]:\n",
    "            eucledian_distance = np.linalg.norm(np.array(features) - np.array(predict))\n",
    "            distances.append([eucledian_distance, group])\n",
    "\n",
    "    votes = [i[1] for i in sorted(distances)[:k]]\n",
    "    votes_result = Counter(votes).most_common(1)[0][0]\n",
    "    return votes_result\n",
    "\n",
    "predicted = KNN(data, new_feature, k=3)\n",
    "predicted"
   ]
  },
  {
   "cell_type": "code",
   "execution_count": null,
   "metadata": {},
   "outputs": [],
   "source": []
  }
 ],
 "metadata": {
  "kernelspec": {
   "display_name": "Python 3.10.2 64-bit",
   "language": "python",
   "name": "python3"
  },
  "language_info": {
   "codemirror_mode": {
    "name": "ipython",
    "version": 3
   },
   "file_extension": ".py",
   "mimetype": "text/x-python",
   "name": "python",
   "nbconvert_exporter": "python",
   "pygments_lexer": "ipython3",
   "version": "3.10.2"
  },
  "orig_nbformat": 4,
  "vscode": {
   "interpreter": {
    "hash": "636b2e4c25e04f16a9a47cf85a3577455a08be7dec491514b39ecb21dc1975aa"
   }
  }
 },
 "nbformat": 4,
 "nbformat_minor": 2
}
